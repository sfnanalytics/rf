{
 "cells": [
  {
   "cell_type": "code",
   "execution_count": 58,
   "metadata": {
    "scrolled": true
   },
   "outputs": [],
   "source": [
    "# Membership Recency + Frequency\n",
    "\n",
    "import pandas as pd\n",
    "import glob\n",
    "import os\n",
    "import sys\n",
    "\n",
    "path = os.getcwd() # use your path\n",
    "all_files = glob.glob(path + \"/*.xlsx\")\n",
    "# print(all_files)\n",
    "\n",
    "li = []\n",
    "for filename in all_files:\n",
    "    df = pd.read_excel(filename, #engine='openpyxl',\n",
    "     skiprows=2)\n",
    "    new_header = df.iloc[1] #grab the first row for the header\n",
    "    df.dropna(subset=['individual_id'], inplace=True)  #take the data less empty values\n",
    "    # print(df.head)\n",
    "    # print(100*'-')\n",
    "#     df.columns = new_header #set the header row as the df header\n",
    "    li.append(df)\n",
    "\n",
    "frame = pd.concat(li, axis=0, ignore_index=True)\n",
    "\n",
    " = frame[frame['individual_id'].notna()]\n",
    "\n"
   ]
  },
  {
   "cell_type": "code",
   "execution_count": 59,
   "metadata": {
    "scrolled": true
   },
   "outputs": [],
   "source": [
    "# for filename in ['C:\\\\Users\\\\jweinapple\\\\Desktop\\\\Python\\\\Recency_Frequency\\\\rf_package\\\\src\\\\data (21).xlsx']:\n",
    "#     df = pd.read_excel(filename, #engine='openpyxl',\n",
    "#      skiprows=2)\n",
    "#     new_header = df.iloc[1] #grab the first row for the header\n",
    "#     df = df[3:] #take the data less the he"
   ]
  },
  {
   "cell_type": "code",
   "execution_count": 60,
   "metadata": {},
   "outputs": [],
   "source": [
    "# df.individual_id.sort_values()"
   ]
  },
  {
   "cell_type": "code",
   "execution_count": 62,
   "metadata": {},
   "outputs": [
    {
     "name": "stdout",
     "output_type": "stream",
     "text": [
      "(183914, 7)\n"
     ]
    }
   ],
   "source": [
    "people.drop_duplicates(inplace=True)\n",
    "\n",
    "people.shape\n",
    "\n",
    "people.tail()\n",
    "\n",
    "print(people.shape)\n",
    "people = people.set_index('individual_id')\n",
    "\n",
    "# people['Membership Year'].value_counts()\n",
    "\n",
    "\n",
    "# #### 116,880 total Meeting Attendees since 2015\n"
   ]
  },
  {
   "cell_type": "code",
   "execution_count": 63,
   "metadata": {},
   "outputs": [
    {
     "name": "stdout",
     "output_type": "stream",
     "text": [
      "Shape: (183914, 9)\n",
      "                   first_last_name            primary_email_address  \\\n",
      "individual_id                                                         \n",
      "156024.0         William, O'Connor            william.oconnor@ul.ie   \n",
      "100032071.0         Miho, Watanabe             mihow@hama-med.ac.jp   \n",
      "100009091.0    Slobodan, Todorovic  slobodan.todorovic@ucdenver.edu   \n",
      "210964788.0       Rachel, Corrigan                rcorrig4@kent.edu   \n",
      "210926659.0          Aditya, Panta       apanta@medicine.tamhsc.edu   \n",
      "\n",
      "               Last Membership  Frequency  Recency Membership Product Group  \\\n",
      "individual_id                                                                 \n",
      "156024.0                  2020          5        1        1 Year Membership   \n",
      "100032071.0               2021          4        0        2 Year Membership   \n",
      "100009091.0               2020          5        1        1 Year Membership   \n",
      "210964788.0               2021          5        0        1 Year Membership   \n",
      "210926659.0               2018          3        3        1 Year Membership   \n",
      "\n",
      "              Primary Member Type        Country  Membership Year  \n",
      "individual_id                                                      \n",
      "156024.0                  Regular        Ireland             2016  \n",
      "100032071.0               Regular          Japan             2020  \n",
      "100009091.0               Regular  United States             2016  \n",
      "210964788.0               Student  United States             2019  \n",
      "210926659.0               Student  United States             2017  \n",
      "----------------------------------------------------------------------------------------------------\n",
      "Complete!\n"
     ]
    }
   ],
   "source": [
    "# # Using individual_id as Index allows for the following aggregate to run properly\n",
    "\n",
    "people['Last Membership'] = pd.to_numeric(people.groupby(['individual_id'], sort=False)['Membership Year'].max())\n",
    "people['Recency'] = 2021 - people['Last Membership']\n",
    "people['Frequency'] = pd.to_numeric(people.groupby(['individual_id'], sort=False)['Membership Year'].count())\n",
    "\n",
    "final_membership_rf = people[['first_last_name','primary_email_address','Last Membership','Frequency', 'Recency', 'Membership Product Group', 'Primary Member Type','Country', 'Membership Year']]\n",
    "# print(final_membership_rf.shape)\n",
    "final_membership_rf.sample(10)\n",
    "\n",
    "\n",
    "# Does this include all 2020 members? I filtered for last membership 2020 and 2 year membership and I am only getting approx. 3800 records but we had 14000 2 years members in 2020. So I was wondering if we intentionally omitted some people. \n",
    "\n",
    "# final_membership_rf['Last Membership'].value_counts()\n",
    "\n",
    "# final_membership_rf[['Membership Year', 'Membership Product Group']].value_counts()\n",
    "\n",
    "# final_membership_rf.drop_duplicates(inplace=True)\n",
    "\n",
    "final_membership_rf.to_csv('MembershipRecencyFrequency_w_Product.csv', index=True)\n",
    "print(\"Shape:\", final_membership_rf.shape)\n",
    "print(final_membership_rf.sample(5))\n",
    "print(100*'-')\n",
    "print(\"Complete!\")\n"
   ]
  },
  {
   "cell_type": "code",
   "execution_count": null,
   "metadata": {},
   "outputs": [],
   "source": []
  }
 ],
 "metadata": {
  "kernelspec": {
   "display_name": "Python 3",
   "language": "python",
   "name": "python3"
  },
  "language_info": {
   "codemirror_mode": {
    "name": "ipython",
    "version": 3
   },
   "file_extension": ".py",
   "mimetype": "text/x-python",
   "name": "python",
   "nbconvert_exporter": "python",
   "pygments_lexer": "ipython3",
   "version": "3.7.6"
  }
 },
 "nbformat": 4,
 "nbformat_minor": 4
}
